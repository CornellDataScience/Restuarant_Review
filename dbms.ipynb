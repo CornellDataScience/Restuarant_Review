{
 "cells": [
  {
   "cell_type": "code",
   "execution_count": 116,
   "metadata": {},
   "outputs": [],
   "source": [
    "import pandas as pd\n",
    "from pyspark.sql import SparkSession"
   ]
  },
  {
   "cell_type": "code",
   "execution_count": 111,
   "metadata": {},
   "outputs": [],
   "source": [
    "big_list = []\n",
    "with open('YelpData.txt', 'rb') as f:\n",
    "    data = f.readlines()\n",
    "\n",
    "for partial_data in data:\n",
    "    df = pd.read_json(partial_data)\n",
    "    for column in df.columns:\n",
    "        temp = list(df[column])\n",
    "        temp.insert(0,column)\n",
    "        big_list.append(temp)\n",
    "new_df = pd.DataFrame(big_list,columns=[\"key\", \"website\", \"restaurant\",\"date\", \"review\", \"rating\", \"num_votes\"])"
   ]
  },
  {
   "cell_type": "code",
   "execution_count": 124,
   "metadata": {},
   "outputs": [],
   "source": [
    "spark = SparkSession.builder.appName('restaurant_reviews').getOrCreate()\n",
    "spark_df = spark.createDataFrame(new_df)\n",
    "spark_df.write.saveAsTable(\"yelp\")"
   ]
  },
  {
   "cell_type": "code",
   "execution_count": 132,
   "metadata": {},
   "outputs": [
    {
     "name": "stdout",
     "output_type": "stream",
     "text": [
      "+--------------------+-----+\n",
      "|          restaurant|count|\n",
      "+--------------------+-----+\n",
      "|        Gorgers Subs|  140|\n",
      "|            Tamarind|  106|\n",
      "|     Napoli Pizzeria|   48|\n",
      "|Luna Inspired Str...|   90|\n",
      "|Applebee’s Grill ...|   27|\n",
      "|  Buffalo Wild Wings|   31|\n",
      "|              Subway|    1|\n",
      "|       Stella’s Barn|   27|\n",
      "|Capital State Kit...|   20|\n",
      "|         Sushi Osaka|    9|\n",
      "|     Gangnam Station|   31|\n",
      "|Spring Buffet & G...|   37|\n",
      "| Dapper’s Restaurant|    6|\n",
      "|Taste of Thai Exp...|  166|\n",
      "|           Taco Bell|   16|\n",
      "|         Pizza Aroma|   55|\n",
      "|       Taste of Thai|  180|\n",
      "|         Atrium Cafe|    3|\n",
      "|Little Caesars Pizza|    3|\n",
      "|         Nikki Green|   33|\n",
      "+--------------------+-----+\n",
      "only showing top 20 rows\n",
      "\n"
     ]
    }
   ],
   "source": [
    "spark_df.groupBy(\"restaurant\").count().show()"
   ]
  },
  {
   "cell_type": "code",
   "execution_count": null,
   "metadata": {},
   "outputs": [],
   "source": []
  }
 ],
 "metadata": {
  "kernelspec": {
   "display_name": "Python 3",
   "language": "python",
   "name": "python3"
  },
  "language_info": {
   "codemirror_mode": {
    "name": "ipython",
    "version": 3
   },
   "file_extension": ".py",
   "mimetype": "text/x-python",
   "name": "python",
   "nbconvert_exporter": "python",
   "pygments_lexer": "ipython3",
   "version": "3.6.4"
  }
 },
 "nbformat": 4,
 "nbformat_minor": 2
}
