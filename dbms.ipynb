{
 "cells": [
  {
   "cell_type": "code",
   "execution_count": 21,
   "metadata": {},
   "outputs": [],
   "source": [
    "import pandas as pd\n",
    "from pyspark.sql import SparkSession, functions\n",
    "from datetime import date"
   ]
  },
  {
   "cell_type": "code",
   "execution_count": 2,
   "metadata": {},
   "outputs": [],
   "source": [
    "def format_date(date):\n",
    "    temp = date.split(\"/\")\n",
    "    temp.insert(0, temp[2])\n",
    "    temp = list(map(int,temp[:3]))\n",
    "    return temp\n",
    "\n",
    "big_list = []\n",
    "with open('YelpData.txt', 'rb') as f:\n",
    "    data = f.readlines()\n",
    "for partial_data in data:\n",
    "    df = pd.read_json(partial_data)\n",
    "    for column in df.columns:\n",
    "        temp = list(df[column])\n",
    "        temp.insert(0,column)\n",
    "        big_list.append(temp)\n",
    "new_df = pd.DataFrame(big_list,columns=[\"key\", \"api\", \"restaurant\",\"date\", \"review\", \"rating\", \"num_votes\"])\n",
    "new_df.date = new_df.date.map(lambda x: date(*format_date(x)))"
   ]
  },
  {
   "cell_type": "code",
   "execution_count": 75,
   "metadata": {},
   "outputs": [
    {
     "name": "stdout",
     "output_type": "stream",
     "text": [
      "+--------------------+----+------------+----------+--------------------+------+---------+\n",
      "|                 key| api|  restaurant|      date|              review|rating|num_votes|\n",
      "+--------------------+----+------------+----------+--------------------+------+---------+\n",
      "|1nNArxJdbKsBTDiyl...|Yelp| Sushi Osaka|2019-02-01|Note to future se...|     1|        1|\n",
      "|6dn6Z2ZxuN4EvwPOo...|Yelp| Sushi Osaka|2018-11-27|I've been here tw...|     2|        1|\n",
      "|7rfumZn_RU5VjaJvC...|Yelp| Sushi Osaka|2019-01-28|Great sushi, pric...|     5|        1|\n",
      "|D15UsRq7j1ttFKbcX...|Yelp| Sushi Osaka|2018-09-05|The sushi is deli...|     5|       19|\n",
      "|HFR1zIJr5ES_3e5nW...|Yelp| Sushi Osaka|2018-04-20|Ate here twice in...|     5|       19|\n",
      "|W6nEFj0l6D1T86Vwm...|Yelp| Sushi Osaka|2018-04-28|I was hesitant in...|     2|        5|\n",
      "|WCIxWyhNgzhaUszTr...|Yelp| Sushi Osaka|2018-11-10|I went to Sushi O...|     2|        1|\n",
      "|fGGmLCP2Fz_V5FPRK...|Yelp| Sushi Osaka|2018-06-18|Best and cheapest...|     5|       16|\n",
      "|l7oULh_4repEGZ_lC...|Yelp| Sushi Osaka|2018-11-15|I went to this pl...|     1|        2|\n",
      "|7SoqX-S3_SG0luAHX...|Yelp|Shahi Pakwan|2018-09-01|Family owned and ...|     5|        1|\n",
      "|BDY32KrJte8CdnAiM...|Yelp|Shahi Pakwan|2018-09-30|Finally there is ...|     5|        1|\n",
      "|CJ6najIeqkOr8AQtP...|Yelp|Shahi Pakwan|2018-10-19|Just ate our take...|     4|        0|\n",
      "|FRd1P4LiNUcZbsAkH...|Yelp|Shahi Pakwan|2018-12-09|we were excited a...|     2|        0|\n",
      "|LgO0aMZt9AVIQHke9...|Yelp|Shahi Pakwan|2018-08-29|Stopped in for th...|     1|        1|\n",
      "|MTxtVEq3VefLgn2yL...|Yelp|Shahi Pakwan|2018-12-09|Fantastic Indian ...|     5|        0|\n",
      "|V8zYAOWRa3w3YdgFc...|Yelp|Shahi Pakwan|2018-09-15|Good Indian resta...|     4|        1|\n",
      "|aHQC2tPu30j92ph1j...|Yelp|Shahi Pakwan|2018-09-24|This was the firs...|     5|        0|\n",
      "|cE9g8KllsCf2Rjwhd...|Yelp|Shahi Pakwan|2018-09-24|First time eating...|     5|        0|\n",
      "|ceMAqKTEuNyFqLEzi...|Yelp|Shahi Pakwan|2018-10-04|I really enjoyed ...|     5|        0|\n",
      "|j-KOBUDUheR_GUUO4...|Yelp|Shahi Pakwan|2019-02-02|We visited Shahi ...|     5|        0|\n",
      "+--------------------+----+------------+----------+--------------------+------+---------+\n",
      "only showing top 20 rows\n",
      "\n"
     ]
    }
   ],
   "source": [
    "spark_df.show()"
   ]
  },
  {
   "cell_type": "code",
   "execution_count": 57,
   "metadata": {},
   "outputs": [],
   "source": [
    "spark = SparkSession.builder.appName('restaurant_reviews').getOrCreate()\n",
    "spark_df = spark.createDataFrame(new_df)\n",
    "# spark_df.write.saveAsTable(\"yelp\")"
   ]
  },
  {
   "cell_type": "code",
   "execution_count": 82,
   "metadata": {},
   "outputs": [
    {
     "name": "stdout",
     "output_type": "stream",
     "text": [
      "+--------------------+---------+\n",
      "|          restaurant|num_votes|\n",
      "+--------------------+---------+\n",
      "|        Gorgers Subs|      140|\n",
      "|            Tamarind|      106|\n",
      "|     Napoli Pizzeria|       48|\n",
      "|Luna Inspired Str...|       90|\n",
      "|Applebee’s Grill ...|       27|\n",
      "|  Buffalo Wild Wings|       31|\n",
      "|              Subway|        1|\n",
      "|       Stella’s Barn|       27|\n",
      "|Capital State Kit...|       20|\n",
      "|         Sushi Osaka|        9|\n",
      "|     Gangnam Station|       31|\n",
      "|Spring Buffet & G...|       37|\n",
      "| Dapper’s Restaurant|        6|\n",
      "|Taste of Thai Exp...|      166|\n",
      "|           Taco Bell|       16|\n",
      "|         Pizza Aroma|       55|\n",
      "|       Taste of Thai|      180|\n",
      "|         Atrium Cafe|        3|\n",
      "|Little Caesars Pizza|        3|\n",
      "|         Nikki Green|       33|\n",
      "+--------------------+---------+\n",
      "only showing top 20 rows\n",
      "\n"
     ]
    }
   ],
   "source": []
  },
  {
   "cell_type": "code",
   "execution_count": 83,
   "metadata": {},
   "outputs": [],
   "source": [
    "def rating_counts(df):\n",
    "    df = df.select([\"restaurant\", \"rating\"])\n",
    "    for i in range(1,6):\n",
    "        df = df.withColumn(\"rating_\" + str(i), functions.when(functions.col(\"rating\") == i,1).otherwise(0))\n",
    "    return df.groupBy(\"restaurant\").sum()\n",
    "\n",
    "def get_review_text_date_api(df_yelp, df_zomato, rest_name):\n",
    "    yelp = df_yelp.where(df_yelp.restaurant == rest_name).select([\"review\", \"date\", \"api\"])\n",
    "    zomato = df_zomato.where(df_zomato.restaurant == rest_name).select([\"review\", \"date\", \"api\"])\n",
    "    return yelp.union(zomato)\n",
    "\n",
    "def get_restaurant_counts(df):\n",
    "    return df.groupBy(\"restaurant\").count()\n",
    "def get_vote_counts(df):\n",
    "    return spark_df.select([\"restaurant\", \"num_votes\"]).groupBy(\"restaurant\").count().withColumnRenamed(\"count\", \"num_votes\").sho"
   ]
  },
  {
   "cell_type": "code",
   "execution_count": null,
   "metadata": {},
   "outputs": [],
   "source": []
  }
 ],
 "metadata": {
  "kernelspec": {
   "display_name": "Python 3",
   "language": "python",
   "name": "python3"
  },
  "language_info": {
   "codemirror_mode": {
    "name": "ipython",
    "version": 3
   },
   "file_extension": ".py",
   "mimetype": "text/x-python",
   "name": "python",
   "nbconvert_exporter": "python",
   "pygments_lexer": "ipython3",
   "version": "3.6.4"
  }
 },
 "nbformat": 4,
 "nbformat_minor": 2
}
