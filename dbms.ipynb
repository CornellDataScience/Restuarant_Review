{
 "cells": [
  {
   "cell_type": "code",
   "execution_count": 87,
   "metadata": {},
   "outputs": [],
   "source": [
    "import pandas as pd\n",
    "from pyspark.sql import SparkSession, functions\n",
    "from datetime import date"
   ]
  },
  {
   "cell_type": "code",
   "execution_count": 88,
   "metadata": {},
   "outputs": [],
   "source": [
    "def format_date(date):\n",
    "    temp = date.split(\"/\")\n",
    "    temp.insert(0, temp[2])\n",
    "    temp = list(map(int,temp[:3]))\n",
    "    return temp\n",
    "\n",
    "big_list = []\n",
    "with open('YelpData.txt', 'rb') as f:\n",
    "    data = f.readlines()\n",
    "for partial_data in data:\n",
    "    df = pd.read_json(partial_data)\n",
    "    for column in df.columns:\n",
    "        temp = list(df[column])\n",
    "        temp.insert(0,column)\n",
    "        big_list.append(temp)\n",
    "new_df = pd.DataFrame(big_list,columns=[\"key\", \"api\", \"restaurant\",\"date\", \"review\", \"rating\", \"num_votes\"])\n",
    "new_df.date = new_df.date.map(lambda x: date(*format_date(x)))"
   ]
  },
  {
   "cell_type": "code",
   "execution_count": 89,
   "metadata": {},
   "outputs": [],
   "source": [
    "spark = SparkSession.builder.appName('restaurant_reviews').getOrCreate()\n",
    "spark_df = spark.createDataFrame(new_df)\n",
    "# spark_df.write.saveAsTable(\"yelp\")"
   ]
  },
  {
   "cell_type": "code",
   "execution_count": 90,
   "metadata": {},
   "outputs": [],
   "source": [
    "def rating_counts(df):\n",
    "    df = df.select([\"restaurant\", \"rating\"])\n",
    "    for i in range(1,6):\n",
    "        df = df.withColumn(\"rating_\" + str(i), functions.when(functions.col(\"rating\") == i,1).otherwise(0))\n",
    "    return df.groupBy(\"restaurant\").sum()\n",
    "\n",
    "def get_review_text_date_api(df_yelp, df_zomato, rest_name):\n",
    "    yelp = df_yelp.where(df_yelp.restaurant == rest_name).select([\"review\", \"date\", \"api\"])\n",
    "    zomato = df_zomato.where(df_zomato.restaurant == rest_name).select([\"review\", \"date\", \"api\"])\n",
    "    return yelp.union(zomato)\n",
    "\n",
    "def get_restaurant_counts(df):\n",
    "    return df.groupBy(\"restaurant\").count()\n",
    "\n",
    "def get_vote_counts(df):\n",
    "    return spark_df.select([\"restaurant\", \"num_votes\"]).groupBy(\"restaurant\").count().withColumnRenamed(\"count\", \"num_votes\")"
   ]
  }
 ],
 "metadata": {
  "kernelspec": {
   "display_name": "Python 3",
   "language": "python",
   "name": "python3"
  },
  "language_info": {
   "codemirror_mode": {
    "name": "ipython",
    "version": 3
   },
   "file_extension": ".py",
   "mimetype": "text/x-python",
   "name": "python",
   "nbconvert_exporter": "python",
   "pygments_lexer": "ipython3",
   "version": "3.6.4"
  }
 },
 "nbformat": 4,
 "nbformat_minor": 2
}
