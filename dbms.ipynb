{
 "cells": [
  {
   "cell_type": "code",
   "execution_count": 279,
   "metadata": {},
   "outputs": [],
   "source": [
    "import pandas as pd\n",
    "from pyspark.sql import SparkSession\n",
    "from datetime import date"
   ]
  },
  {
   "cell_type": "code",
   "execution_count": 281,
   "metadata": {},
   "outputs": [],
   "source": [
    "def format_date(date):\n",
    "    temp = date.split(\"/\")\n",
    "    temp.insert(0, temp[2])\n",
    "    temp = list(map(int,temp[:3]))\n",
    "    return temp\n",
    "\n",
    "big_list = []\n",
    "with open('YelpData.txt', 'rb') as f:\n",
    "    data = f.readlines()\n",
    "for partial_data in data:\n",
    "    df = pd.read_json(partial_data)\n",
    "    for column in df.columns:\n",
    "        temp = list(df[column])\n",
    "        temp.insert(0,column)\n",
    "        big_list.append(temp)\n",
    "new_df = pd.DataFrame(big_list,columns=[\"key\", \"website\", \"restaurant\",\"date\", \"review\", \"rating\", \"num_votes\"])\n",
    "new_df.date = new_df.date.map(lambda x: date(*format_date(x)))"
   ]
  },
  {
   "cell_type": "code",
   "execution_count": 282,
   "metadata": {},
   "outputs": [],
   "source": [
    "def rating_map(rest_rating, rating):\n",
    "    if rating == rest_rating:\n",
    "        return 1\n",
    "    return 0\n",
    "\n",
    "def get_ratings(df): # takes in pandas DataFrame\n",
    "    rating = df[[\"restaurant\", \"rating\"]]\n",
    "    for i in range(1,6):\n",
    "        rating[\"rating_\" + str(i)] = rating.rating.apply(lambda x: rating_map(i,x))\n",
    "    rating = rating.groupby(\"restaurant\").sum()\n",
    "    return rating"
   ]
  },
  {
   "cell_type": "code",
   "execution_count": 283,
   "metadata": {},
   "outputs": [
    {
     "name": "stderr",
     "output_type": "stream",
     "text": [
      "/anaconda3/lib/python3.6/site-packages/ipykernel_launcher.py:9: SettingWithCopyWarning: \n",
      "A value is trying to be set on a copy of a slice from a DataFrame.\n",
      "Try using .loc[row_indexer,col_indexer] = value instead\n",
      "\n",
      "See the caveats in the documentation: http://pandas.pydata.org/pandas-docs/stable/indexing.html#indexing-view-versus-copy\n",
      "  if __name__ == '__main__':\n"
     ]
    },
    {
     "data": {
      "text/html": [
       "<div>\n",
       "<style scoped>\n",
       "    .dataframe tbody tr th:only-of-type {\n",
       "        vertical-align: middle;\n",
       "    }\n",
       "\n",
       "    .dataframe tbody tr th {\n",
       "        vertical-align: top;\n",
       "    }\n",
       "\n",
       "    .dataframe thead th {\n",
       "        text-align: right;\n",
       "    }\n",
       "</style>\n",
       "<table border=\"1\" class=\"dataframe\">\n",
       "  <thead>\n",
       "    <tr style=\"text-align: right;\">\n",
       "      <th></th>\n",
       "      <th>rating</th>\n",
       "      <th>rating_1</th>\n",
       "      <th>rating_2</th>\n",
       "      <th>rating_3</th>\n",
       "      <th>rating_4</th>\n",
       "      <th>rating_5</th>\n",
       "    </tr>\n",
       "    <tr>\n",
       "      <th>restaurant</th>\n",
       "      <th></th>\n",
       "      <th></th>\n",
       "      <th></th>\n",
       "      <th></th>\n",
       "      <th></th>\n",
       "      <th></th>\n",
       "    </tr>\n",
       "  </thead>\n",
       "  <tbody>\n",
       "    <tr>\n",
       "      <th>Arby’s</th>\n",
       "      <td>7</td>\n",
       "      <td>0</td>\n",
       "      <td>0</td>\n",
       "      <td>1</td>\n",
       "      <td>1</td>\n",
       "      <td>0</td>\n",
       "    </tr>\n",
       "    <tr>\n",
       "      <th>Calios</th>\n",
       "      <td>21</td>\n",
       "      <td>2</td>\n",
       "      <td>0</td>\n",
       "      <td>1</td>\n",
       "      <td>4</td>\n",
       "      <td>0</td>\n",
       "    </tr>\n",
       "    <tr>\n",
       "      <th>Chili’s</th>\n",
       "      <td>51</td>\n",
       "      <td>4</td>\n",
       "      <td>2</td>\n",
       "      <td>4</td>\n",
       "      <td>4</td>\n",
       "      <td>3</td>\n",
       "    </tr>\n",
       "    <tr>\n",
       "      <th>Denny’s</th>\n",
       "      <td>80</td>\n",
       "      <td>16</td>\n",
       "      <td>8</td>\n",
       "      <td>2</td>\n",
       "      <td>3</td>\n",
       "      <td>6</td>\n",
       "    </tr>\n",
       "    <tr>\n",
       "      <th>Friendly’s</th>\n",
       "      <td>46</td>\n",
       "      <td>7</td>\n",
       "      <td>2</td>\n",
       "      <td>2</td>\n",
       "      <td>1</td>\n",
       "      <td>5</td>\n",
       "    </tr>\n",
       "  </tbody>\n",
       "</table>\n",
       "</div>"
      ],
      "text/plain": [
       "             rating  rating_1  rating_2  rating_3  rating_4  rating_5\n",
       "restaurant                                                           \n",
       " Arby’s           7         0         0         1         1         0\n",
       " Calios          21         2         0         1         4         0\n",
       " Chili’s         51         4         2         4         4         3\n",
       " Denny’s         80        16         8         2         3         6\n",
       " Friendly’s      46         7         2         2         1         5"
      ]
     },
     "execution_count": 283,
     "metadata": {},
     "output_type": "execute_result"
    }
   ],
   "source": [
    "get_ratings(new_df).head()"
   ]
  },
  {
   "cell_type": "code",
   "execution_count": 235,
   "metadata": {},
   "outputs": [],
   "source": [
    "spark = SparkSession.builder.appName('restaurant_reviews').getOrCreate()\n",
    "spark_df = spark.createDataFrame(new_df)\n",
    "# spark_df.write.saveAsTable(\"yelp\")"
   ]
  },
  {
   "cell_type": "code",
   "execution_count": 236,
   "metadata": {},
   "outputs": [],
   "source": [
    "a = spark_df.groupBy(\"restaurant\").count()"
   ]
  },
  {
   "cell_type": "code",
   "execution_count": 237,
   "metadata": {},
   "outputs": [
    {
     "name": "stdout",
     "output_type": "stream",
     "text": [
      "+--------------------+-----+\n",
      "|          restaurant|count|\n",
      "+--------------------+-----+\n",
      "|        Gorgers Subs|  140|\n",
      "|            Tamarind|  106|\n",
      "|     Napoli Pizzeria|   48|\n",
      "|Luna Inspired Str...|   90|\n",
      "|Applebee’s Grill ...|   27|\n",
      "|  Buffalo Wild Wings|   31|\n",
      "|              Subway|    1|\n",
      "|       Stella’s Barn|   27|\n",
      "|Capital State Kit...|   20|\n",
      "|         Sushi Osaka|    9|\n",
      "|     Gangnam Station|   31|\n",
      "|Spring Buffet & G...|   37|\n",
      "| Dapper’s Restaurant|    6|\n",
      "|Taste of Thai Exp...|  166|\n",
      "|           Taco Bell|   16|\n",
      "|         Pizza Aroma|   55|\n",
      "|       Taste of Thai|  180|\n",
      "|         Atrium Cafe|    3|\n",
      "|Little Caesars Pizza|    3|\n",
      "|         Nikki Green|   33|\n",
      "+--------------------+-----+\n",
      "only showing top 20 rows\n",
      "\n"
     ]
    }
   ],
   "source": [
    "a.show()"
   ]
  }
 ],
 "metadata": {
  "kernelspec": {
   "display_name": "Python 3",
   "language": "python",
   "name": "python3"
  },
  "language_info": {
   "codemirror_mode": {
    "name": "ipython",
    "version": 3
   },
   "file_extension": ".py",
   "mimetype": "text/x-python",
   "name": "python",
   "nbconvert_exporter": "python",
   "pygments_lexer": "ipython3",
   "version": "3.6.4"
  }
 },
 "nbformat": 4,
 "nbformat_minor": 2
}
